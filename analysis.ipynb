{
 "cells": [
  {
   "cell_type": "code",
   "execution_count": 4,
   "metadata": {
    "editable": true
   },
   "outputs": [
    {
     "name": "stdout",
     "output_type": "stream",
     "text": [
      "The sql extension is already loaded. To reload it, use:\n",
      "  %reload_ext sql\n"
     ]
    }
   ],
   "source": [
    "%load_ext sql"
   ]
  },
  {
   "cell_type": "code",
   "execution_count": 52,
   "metadata": {
    "editable": true
   },
   "outputs": [],
   "source": [
    "import configparser\n",
    "import psycopg2\n",
    "import boto3\n",
    "import matplotlib.pyplot as plt\n",
    "import seaborn as sns\n",
    "import pandas as pd"
   ]
  },
  {
   "cell_type": "code",
   "execution_count": 6,
   "metadata": {
    "editable": true
   },
   "outputs": [
    {
     "name": "stdout",
     "output_type": "stream",
     "text": [
      "<connection object at 0x7f6792a11508; dsn: 'user=awsuser password=xxx dbname=dev host=redshift-cluster-1.czgion4wm3xo.us-east-1.redshift.amazonaws.com port=5439', closed: 0>\n"
     ]
    }
   ],
   "source": [
    "#read config file\n",
    "config = configparser.ConfigParser()\n",
    "config.read('dwh.cfg')\n",
    "\n",
    "#connect to the host\n",
    "conn = psycopg2.connect(\"host={} dbname={} user={} password={} port={}\".format(*config['CLUSTER'].values()))\n",
    "#cur = conn.cursor()\n",
    "print(conn)"
   ]
  },
  {
   "cell_type": "code",
   "execution_count": 17,
   "metadata": {
    "editable": true
   },
   "outputs": [
    {
     "data": {
      "text/html": [
       "<div>\n",
       "<style scoped>\n",
       "    .dataframe tbody tr th:only-of-type {\n",
       "        vertical-align: middle;\n",
       "    }\n",
       "\n",
       "    .dataframe tbody tr th {\n",
       "        vertical-align: top;\n",
       "    }\n",
       "\n",
       "    .dataframe thead th {\n",
       "        text-align: right;\n",
       "    }\n",
       "</style>\n",
       "<table border=\"1\" class=\"dataframe\">\n",
       "  <thead>\n",
       "    <tr style=\"text-align: right;\">\n",
       "      <th></th>\n",
       "      <th>count</th>\n",
       "    </tr>\n",
       "  </thead>\n",
       "  <tbody>\n",
       "    <tr>\n",
       "      <th>0</th>\n",
       "      <td>14896</td>\n",
       "    </tr>\n",
       "  </tbody>\n",
       "</table>\n",
       "</div>"
      ],
      "text/plain": [
       "   count\n",
       "0  14896"
      ]
     },
     "execution_count": 17,
     "metadata": {},
     "output_type": "execute_result"
    }
   ],
   "source": [
    "#count songs\n",
    "df_song = pd.read_sql(\"SELECT  COUNT(*) FROM song;\", conn)\n",
    "df_song"
   ]
  },
  {
   "cell_type": "code",
   "execution_count": 47,
   "metadata": {
    "editable": true
   },
   "outputs": [
    {
     "name": "stdout",
     "output_type": "stream",
     "text": [
      "<class 'pandas.core.frame.DataFrame'>\n",
      "RangeIndex: 14896 entries, 0 to 14895\n",
      "Data columns (total 5 columns):\n",
      "song_id      14896 non-null object\n",
      "title        14896 non-null object\n",
      "artist_id    14896 non-null object\n",
      "year         14896 non-null int64\n",
      "duration     14896 non-null float64\n",
      "dtypes: float64(1), int64(1), object(3)\n",
      "memory usage: 582.0+ KB\n"
     ]
    }
   ],
   "source": [
    "df_song = pd.read_sql(\"SELECT * FROM song;\", conn)\n",
    "df_song.info()"
   ]
  },
  {
   "cell_type": "code",
   "execution_count": 16,
   "metadata": {
    "editable": true
   },
   "outputs": [
    {
     "data": {
      "text/html": [
       "<div>\n",
       "<style scoped>\n",
       "    .dataframe tbody tr th:only-of-type {\n",
       "        vertical-align: middle;\n",
       "    }\n",
       "\n",
       "    .dataframe tbody tr th {\n",
       "        vertical-align: top;\n",
       "    }\n",
       "\n",
       "    .dataframe thead th {\n",
       "        text-align: right;\n",
       "    }\n",
       "</style>\n",
       "<table border=\"1\" class=\"dataframe\">\n",
       "  <thead>\n",
       "    <tr style=\"text-align: right;\">\n",
       "      <th></th>\n",
       "      <th>count</th>\n",
       "    </tr>\n",
       "  </thead>\n",
       "  <tbody>\n",
       "    <tr>\n",
       "      <th>0</th>\n",
       "      <td>10025</td>\n",
       "    </tr>\n",
       "  </tbody>\n",
       "</table>\n",
       "</div>"
      ],
      "text/plain": [
       "   count\n",
       "0  10025"
      ]
     },
     "execution_count": 16,
     "metadata": {},
     "output_type": "execute_result"
    }
   ],
   "source": [
    "#number of artists\n",
    "df_artist = pd.read_sql(\"SELECT  COUNT(*) FROM artist;\", conn)\n",
    "df_artist"
   ]
  },
  {
   "cell_type": "code",
   "execution_count": 61,
   "metadata": {
    "editable": true
   },
   "outputs": [
    {
     "data": {
      "text/html": [
       "<div>\n",
       "<style scoped>\n",
       "    .dataframe tbody tr th:only-of-type {\n",
       "        vertical-align: middle;\n",
       "    }\n",
       "\n",
       "    .dataframe tbody tr th {\n",
       "        vertical-align: top;\n",
       "    }\n",
       "\n",
       "    .dataframe thead th {\n",
       "        text-align: right;\n",
       "    }\n",
       "</style>\n",
       "<table border=\"1\" class=\"dataframe\">\n",
       "  <thead>\n",
       "    <tr style=\"text-align: right;\">\n",
       "      <th></th>\n",
       "      <th>artist_id</th>\n",
       "      <th>name</th>\n",
       "      <th>location</th>\n",
       "      <th>artist_latitude</th>\n",
       "      <th>artist_longitude</th>\n",
       "    </tr>\n",
       "  </thead>\n",
       "  <tbody>\n",
       "    <tr>\n",
       "      <th>0</th>\n",
       "      <td>AR00DG71187B9B7FCB</td>\n",
       "      <td>Basslovers United</td>\n",
       "      <td>None</td>\n",
       "      <td>NaN</td>\n",
       "      <td>NaN</td>\n",
       "    </tr>\n",
       "    <tr>\n",
       "      <th>1</th>\n",
       "      <td>AR00YYQ1187FB504DC</td>\n",
       "      <td>God Is My Co-Pilot</td>\n",
       "      <td>New York, NY</td>\n",
       "      <td>40.71455</td>\n",
       "      <td>-74.00712</td>\n",
       "    </tr>\n",
       "    <tr>\n",
       "      <th>2</th>\n",
       "      <td>AR01IP11187B9AF5D2</td>\n",
       "      <td>Call To Preserve</td>\n",
       "      <td>Rockledge, Florida</td>\n",
       "      <td>28.33268</td>\n",
       "      <td>-80.73486</td>\n",
       "    </tr>\n",
       "    <tr>\n",
       "      <th>3</th>\n",
       "      <td>AR01SCU1187B9A693C</td>\n",
       "      <td>Street Dogs</td>\n",
       "      <td>Boston, MA</td>\n",
       "      <td>NaN</td>\n",
       "      <td>NaN</td>\n",
       "    </tr>\n",
       "    <tr>\n",
       "      <th>4</th>\n",
       "      <td>AR02LMQ1187B992AC9</td>\n",
       "      <td>The Classic Crime</td>\n",
       "      <td>Seattle, WA</td>\n",
       "      <td>47.60356</td>\n",
       "      <td>-122.32944</td>\n",
       "    </tr>\n",
       "  </tbody>\n",
       "</table>\n",
       "</div>"
      ],
      "text/plain": [
       "            artist_id                name            location  \\\n",
       "0  AR00DG71187B9B7FCB   Basslovers United                None   \n",
       "1  AR00YYQ1187FB504DC  God Is My Co-Pilot        New York, NY   \n",
       "2  AR01IP11187B9AF5D2    Call To Preserve  Rockledge, Florida   \n",
       "3  AR01SCU1187B9A693C         Street Dogs          Boston, MA   \n",
       "4  AR02LMQ1187B992AC9   The Classic Crime         Seattle, WA   \n",
       "\n",
       "   artist_latitude  artist_longitude  \n",
       "0              NaN               NaN  \n",
       "1         40.71455         -74.00712  \n",
       "2         28.33268         -80.73486  \n",
       "3              NaN               NaN  \n",
       "4         47.60356        -122.32944  "
      ]
     },
     "execution_count": 61,
     "metadata": {},
     "output_type": "execute_result"
    }
   ],
   "source": [
    "df_artist = pd.read_sql(\"SELECT * FROM artist;\", conn)\n",
    "df_artist.head()"
   ]
  },
  {
   "cell_type": "code",
   "execution_count": 20,
   "metadata": {
    "editable": true
   },
   "outputs": [],
   "source": [
    "df_songplays = pd.read_sql(\"SELECT * FROM songplays;\", conn)"
   ]
  },
  {
   "cell_type": "code",
   "execution_count": 21,
   "metadata": {
    "editable": true
   },
   "outputs": [
    {
     "data": {
      "text/html": [
       "<div>\n",
       "<style scoped>\n",
       "    .dataframe tbody tr th:only-of-type {\n",
       "        vertical-align: middle;\n",
       "    }\n",
       "\n",
       "    .dataframe tbody tr th {\n",
       "        vertical-align: top;\n",
       "    }\n",
       "\n",
       "    .dataframe thead th {\n",
       "        text-align: right;\n",
       "    }\n",
       "</style>\n",
       "<table border=\"1\" class=\"dataframe\">\n",
       "  <thead>\n",
       "    <tr style=\"text-align: right;\">\n",
       "      <th></th>\n",
       "      <th>songplay_id</th>\n",
       "      <th>start_time</th>\n",
       "      <th>user_id</th>\n",
       "      <th>level</th>\n",
       "      <th>song_id</th>\n",
       "      <th>artist_id</th>\n",
       "      <th>session_id</th>\n",
       "      <th>location</th>\n",
       "      <th>user_agent</th>\n",
       "    </tr>\n",
       "  </thead>\n",
       "  <tbody>\n",
       "    <tr>\n",
       "      <th>0</th>\n",
       "      <td>179</td>\n",
       "      <td>2018-11-01 21:11:13</td>\n",
       "      <td>8</td>\n",
       "      <td>free</td>\n",
       "      <td>SOEIQUY12AF72A086A</td>\n",
       "      <td>ARHUC691187B9AD27F</td>\n",
       "      <td>139</td>\n",
       "      <td>Phoenix-Mesa-Scottsdale, AZ</td>\n",
       "      <td>\"Mozilla/5.0 (Windows NT 6.1; WOW64) AppleWebK...</td>\n",
       "    </tr>\n",
       "    <tr>\n",
       "      <th>1</th>\n",
       "      <td>115</td>\n",
       "      <td>2018-11-02 17:31:45</td>\n",
       "      <td>10</td>\n",
       "      <td>free</td>\n",
       "      <td>SOHTKMO12AB01843B0</td>\n",
       "      <td>AR5EYTL1187B98EDA0</td>\n",
       "      <td>182</td>\n",
       "      <td>Washington-Arlington-Alexandria, DC-VA-MD-WV</td>\n",
       "      <td>\"Mozilla/5.0 (Macintosh; Intel Mac OS X 10_9_4...</td>\n",
       "    </tr>\n",
       "    <tr>\n",
       "      <th>2</th>\n",
       "      <td>112</td>\n",
       "      <td>2018-11-03 17:59:01</td>\n",
       "      <td>15</td>\n",
       "      <td>paid</td>\n",
       "      <td>SOHTKMO12AB01843B0</td>\n",
       "      <td>AR5EYTL1187B98EDA0</td>\n",
       "      <td>199</td>\n",
       "      <td>Chicago-Naperville-Elgin, IL-IN-WI</td>\n",
       "      <td>\"Mozilla/5.0 (X11; Linux x86_64) AppleWebKit/5...</td>\n",
       "    </tr>\n",
       "    <tr>\n",
       "      <th>3</th>\n",
       "      <td>174</td>\n",
       "      <td>2018-11-03 19:33:39</td>\n",
       "      <td>95</td>\n",
       "      <td>paid</td>\n",
       "      <td>SOYTFSY12A6D4FD84E</td>\n",
       "      <td>ARRFSMX1187FB39B03</td>\n",
       "      <td>152</td>\n",
       "      <td>Winston-Salem, NC</td>\n",
       "      <td>\"Mozilla/5.0 (iPhone; CPU iPhone OS 7_1_2 like...</td>\n",
       "    </tr>\n",
       "    <tr>\n",
       "      <th>4</th>\n",
       "      <td>2</td>\n",
       "      <td>2018-11-04 16:25:54</td>\n",
       "      <td>69</td>\n",
       "      <td>free</td>\n",
       "      <td>SOARUPP12AB01842E0</td>\n",
       "      <td>ARD46C811C8A414F3F</td>\n",
       "      <td>235</td>\n",
       "      <td>Philadelphia-Camden-Wilmington, PA-NJ-DE-MD</td>\n",
       "      <td>\"Mozilla/5.0 (Macintosh; Intel Mac OS X 10_9_4...</td>\n",
       "    </tr>\n",
       "  </tbody>\n",
       "</table>\n",
       "</div>"
      ],
      "text/plain": [
       "   songplay_id          start_time  user_id level             song_id  \\\n",
       "0          179 2018-11-01 21:11:13        8  free  SOEIQUY12AF72A086A   \n",
       "1          115 2018-11-02 17:31:45       10  free  SOHTKMO12AB01843B0   \n",
       "2          112 2018-11-03 17:59:01       15  paid  SOHTKMO12AB01843B0   \n",
       "3          174 2018-11-03 19:33:39       95  paid  SOYTFSY12A6D4FD84E   \n",
       "4            2 2018-11-04 16:25:54       69  free  SOARUPP12AB01842E0   \n",
       "\n",
       "            artist_id  session_id  \\\n",
       "0  ARHUC691187B9AD27F         139   \n",
       "1  AR5EYTL1187B98EDA0         182   \n",
       "2  AR5EYTL1187B98EDA0         199   \n",
       "3  ARRFSMX1187FB39B03         152   \n",
       "4  ARD46C811C8A414F3F         235   \n",
       "\n",
       "                                       location  \\\n",
       "0                   Phoenix-Mesa-Scottsdale, AZ   \n",
       "1  Washington-Arlington-Alexandria, DC-VA-MD-WV   \n",
       "2            Chicago-Naperville-Elgin, IL-IN-WI   \n",
       "3                             Winston-Salem, NC   \n",
       "4   Philadelphia-Camden-Wilmington, PA-NJ-DE-MD   \n",
       "\n",
       "                                          user_agent  \n",
       "0  \"Mozilla/5.0 (Windows NT 6.1; WOW64) AppleWebK...  \n",
       "1  \"Mozilla/5.0 (Macintosh; Intel Mac OS X 10_9_4...  \n",
       "2  \"Mozilla/5.0 (X11; Linux x86_64) AppleWebKit/5...  \n",
       "3  \"Mozilla/5.0 (iPhone; CPU iPhone OS 7_1_2 like...  \n",
       "4  \"Mozilla/5.0 (Macintosh; Intel Mac OS X 10_9_4...  "
      ]
     },
     "execution_count": 21,
     "metadata": {},
     "output_type": "execute_result"
    }
   ],
   "source": [
    "#first 5 rows of songplays table\n",
    "df_songplays.head()"
   ]
  },
  {
   "cell_type": "code",
   "execution_count": 110,
   "metadata": {
    "editable": true
   },
   "outputs": [
    {
     "data": {
      "text/html": [
       "<div>\n",
       "<style scoped>\n",
       "    .dataframe tbody tr th:only-of-type {\n",
       "        vertical-align: middle;\n",
       "    }\n",
       "\n",
       "    .dataframe tbody tr th {\n",
       "        vertical-align: top;\n",
       "    }\n",
       "\n",
       "    .dataframe thead th {\n",
       "        text-align: right;\n",
       "    }\n",
       "</style>\n",
       "<table border=\"1\" class=\"dataframe\">\n",
       "  <thead>\n",
       "    <tr style=\"text-align: right;\">\n",
       "      <th></th>\n",
       "      <th>songplay_id</th>\n",
       "      <th>user_id</th>\n",
       "      <th>level</th>\n",
       "      <th>song_id</th>\n",
       "      <th>artist_id</th>\n",
       "      <th>location</th>\n",
       "      <th>title</th>\n",
       "      <th>duration</th>\n",
       "      <th>year</th>\n",
       "      <th>name</th>\n",
       "    </tr>\n",
       "  </thead>\n",
       "  <tbody>\n",
       "    <tr>\n",
       "      <th>0</th>\n",
       "      <td>119</td>\n",
       "      <td>88</td>\n",
       "      <td>paid</td>\n",
       "      <td>SOGPESA12AB0180D65</td>\n",
       "      <td>AR1K7TQ11C8A414EC8</td>\n",
       "      <td>Sacramento--Roseville--Arden-Arcade, CA</td>\n",
       "      <td>Bang! Bang!</td>\n",
       "      <td>200.25424</td>\n",
       "      <td>2008</td>\n",
       "      <td>The Knux</td>\n",
       "    </tr>\n",
       "    <tr>\n",
       "      <th>1</th>\n",
       "      <td>156</td>\n",
       "      <td>97</td>\n",
       "      <td>paid</td>\n",
       "      <td>SOHZDYL12A8C141C73</td>\n",
       "      <td>AR32RXI1187B9BA168</td>\n",
       "      <td>Lansing-East Lansing, MI</td>\n",
       "      <td>My Perfect Cousin</td>\n",
       "      <td>156.36853</td>\n",
       "      <td>1980</td>\n",
       "      <td>The Undertones</td>\n",
       "    </tr>\n",
       "    <tr>\n",
       "      <th>2</th>\n",
       "      <td>11</td>\n",
       "      <td>44</td>\n",
       "      <td>paid</td>\n",
       "      <td>SOZARNI12A67020744</td>\n",
       "      <td>AR3WLE91187B99430A</td>\n",
       "      <td>Waterloo-Cedar Falls, IA</td>\n",
       "      <td>Everything Changes (Album Version)</td>\n",
       "      <td>239.54240</td>\n",
       "      <td>2005</td>\n",
       "      <td>Staind</td>\n",
       "    </tr>\n",
       "    <tr>\n",
       "      <th>3</th>\n",
       "      <td>169</td>\n",
       "      <td>97</td>\n",
       "      <td>paid</td>\n",
       "      <td>SOSCHDW12A8C130FD7</td>\n",
       "      <td>AR40GSU1187FB3AA01</td>\n",
       "      <td>Lansing-East Lansing, MI</td>\n",
       "      <td>Song Sung Blue</td>\n",
       "      <td>172.38159</td>\n",
       "      <td>1972</td>\n",
       "      <td>Neil Diamond</td>\n",
       "    </tr>\n",
       "    <tr>\n",
       "      <th>4</th>\n",
       "      <td>70</td>\n",
       "      <td>15</td>\n",
       "      <td>paid</td>\n",
       "      <td>SOZCTXZ12AB0182364</td>\n",
       "      <td>AR5KOSW1187FB35FF4</td>\n",
       "      <td>Chicago-Naperville-Elgin, IL-IN-WI</td>\n",
       "      <td>Setanta matins</td>\n",
       "      <td>269.58322</td>\n",
       "      <td>0</td>\n",
       "      <td>Elena</td>\n",
       "    </tr>\n",
       "  </tbody>\n",
       "</table>\n",
       "</div>"
      ],
      "text/plain": [
       "   songplay_id  user_id level             song_id           artist_id  \\\n",
       "0          119       88  paid  SOGPESA12AB0180D65  AR1K7TQ11C8A414EC8   \n",
       "1          156       97  paid  SOHZDYL12A8C141C73  AR32RXI1187B9BA168   \n",
       "2           11       44  paid  SOZARNI12A67020744  AR3WLE91187B99430A   \n",
       "3          169       97  paid  SOSCHDW12A8C130FD7  AR40GSU1187FB3AA01   \n",
       "4           70       15  paid  SOZCTXZ12AB0182364  AR5KOSW1187FB35FF4   \n",
       "\n",
       "                                  location  \\\n",
       "0  Sacramento--Roseville--Arden-Arcade, CA   \n",
       "1                 Lansing-East Lansing, MI   \n",
       "2                 Waterloo-Cedar Falls, IA   \n",
       "3                 Lansing-East Lansing, MI   \n",
       "4       Chicago-Naperville-Elgin, IL-IN-WI   \n",
       "\n",
       "                                title   duration  year            name  \n",
       "0                         Bang! Bang!  200.25424  2008        The Knux  \n",
       "1                   My Perfect Cousin  156.36853  1980  The Undertones  \n",
       "2  Everything Changes (Album Version)  239.54240  2005          Staind  \n",
       "3                      Song Sung Blue  172.38159  1972    Neil Diamond  \n",
       "4                      Setanta matins  269.58322     0           Elena  "
      ]
     },
     "execution_count": 110,
     "metadata": {},
     "output_type": "execute_result"
    }
   ],
   "source": [
    "#join tables\n",
    "df_new_songplay = pd.read_sql(\"SELECT sp.songplay_id, sp.user_id, sp.level, sp.song_id, sp.artist_id, sp.location, s.title,  duration, s.year, art.name \\\n",
    "                              FROM songplays as sp \\\n",
    "                              JOIN song as s ON (sp.song_id = s.song_id) \\\n",
    "                              JOIN artist as art ON (sp.artist_id = art.artist_id)\", conn)\n",
    "df_new_songplay.head()"
   ]
  },
  {
   "cell_type": "code",
   "execution_count": 120,
   "metadata": {
    "editable": true
   },
   "outputs": [
    {
     "data": {
      "text/plain": [
       "You're The One                                          3\n",
       "Mise En Bouche                                          1\n",
       "Setanta matins                                          1\n",
       "Given Up (Album Version)                                1\n",
       "Catch You Baby (Steve Pitron & Max Sanna Radio Edit)    1\n",
       "Affliction                                              1\n",
       "All Of This                                             1\n",
       "Ring My Bell                                            1\n",
       "Missing (Live in Europe)                                1\n",
       "Nuff Fire                                               1\n",
       "Punk Rock Girl                                          1\n",
       "Planet Caravan (Remastered LP Version)                  1\n",
       "Nothin' On You [feat. Bruno Mars] (Album Version)       1\n",
       "Name: title, dtype: int64"
      ]
     },
     "execution_count": 120,
     "metadata": {},
     "output_type": "execute_result"
    }
   ],
   "source": [
    "# songs played by a particular user\n",
    "df_usersong = pd.read_sql(\"SELECT title FROM song as s \\\n",
    "                              JOIN songplays as sp ON (sp.song_id = s.song_id) \\\n",
    "                              WHERE user_id = 15 \", conn)\n",
    "\n",
    "usertitle = df_usersong['title'].value_counts()\n",
    "usertitle"
   ]
  },
  {
   "cell_type": "code",
   "execution_count": 24,
   "metadata": {
    "editable": true
   },
   "outputs": [
    {
     "data": {
      "text/plain": [
       "paid    271\n",
       "free     62\n",
       "Name: level, dtype: int64"
      ]
     },
     "execution_count": 24,
     "metadata": {},
     "output_type": "execute_result"
    }
   ],
   "source": [
    "#songs levels: paid or free\n",
    "df_songplays['level'].value_counts()"
   ]
  },
  {
   "cell_type": "code",
   "execution_count": 86,
   "metadata": {
    "editable": true
   },
   "outputs": [
    {
     "data": {
      "image/png": "[encoded data removed]",
      "text/plain": [
       "<matplotlib.figure.Figure at 0x7f678b9eba90>"
      ]
     },
     "metadata": {},
     "output_type": "display_data"
    }
   ],
   "source": [
    "#visualize levels\n",
    "labels = 'paid', 'free'\n",
    "plt.subplots(figsize=(7,6))\n",
    "sorted_counts = df_songplays['level'].value_counts()\n",
    "plt.title('SongPlays Level', fontsize=(20))\n",
    "plt.pie(sorted_counts ,labels= labels,autopct='%1.1f%%',startangle=60)\n",
    "plt.show()"
   ]
  },
  {
   "cell_type": "code",
   "execution_count": 99,
   "metadata": {
    "editable": true
   },
   "outputs": [],
   "source": [
    "title = df_new_songplay['title'].value_counts()"
   ]
  },
  {
   "cell_type": "code",
   "execution_count": 100,
   "metadata": {
    "editable": true
   },
   "outputs": [
    {
     "data": {
      "text/plain": [
       "Text(0.5,1,'Top 10 Songs')"
      ]
     },
     "execution_count": 100,
     "metadata": {},
     "output_type": "execute_result"
    },
    {
     "data": {
      "image/png": "[encoded data removed]",
      "text/plain": [
       "<matplotlib.figure.Figure at 0x7f678bddbc50>"
      ]
     },
     "metadata": {
      "needs_background": "light"
     },
     "output_type": "display_data"
    }
   ],
   "source": [
    "#top songs \n",
    "plt.subplots(figsize=(10,6))\n",
    "sns.barplot(x=title[:10], y = title.index[:10], color = '#4169e1')\n",
    "plt.xlabel('value', fontsize=(12))\n",
    "plt.ylabel('Title', fontsize=(12))\n",
    "plt.title('Top 10 Songs', fontsize=(14))"
   ]
  },
  {
   "cell_type": "code",
   "execution_count": 103,
   "metadata": {
    "editable": true
   },
   "outputs": [],
   "source": [
    "artist = df_new_songplay['name'].value_counts()"
   ]
  },
  {
   "cell_type": "code",
   "execution_count": 107,
   "metadata": {
    "editable": true
   },
   "outputs": [
    {
     "data": {
      "text/plain": [
       "Text(0.5,1,'Top 5 Artists')"
      ]
     },
     "execution_count": 107,
     "metadata": {},
     "output_type": "execute_result"
    },
    {
     "data": {
      "image/png": "[encoded data removed]",
      "text/plain": [
       "<matplotlib.figure.Figure at 0x7f678b777780>"
      ]
     },
     "metadata": {
      "needs_background": "light"
     },
     "output_type": "display_data"
    }
   ],
   "source": [
    "#top artists\n",
    "plt.subplots(figsize=(8,6))\n",
    "sns.barplot(x=artist.index[:5], y = artist[:5], color = '#4169e1')\n",
    "plt.xlabel('Name', fontsize=(10))\n",
    "plt.ylabel('value', fontsize=(10))\n",
    "plt.xticks(rotation=45)\n",
    "plt.title('Top 5 Artists', fontsize=(12))"
   ]
  }
 ],
 "metadata": {
  "kernelspec": {
   "display_name": "Python 3",
   "language": "python",
   "name": "python3"
  },
  "language_info": {
   "codemirror_mode": {
    "name": "ipython",
    "version": 3
   },
   "file_extension": ".py",
   "mimetype": "text/x-python",
   "name": "python",
   "nbconvert_exporter": "python",
   "pygments_lexer": "ipython3",
   "version": "3.6.3"
  }
 },
 "nbformat": 4,
 "nbformat_minor": 4
}
